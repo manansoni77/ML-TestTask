{
 "cells": [
  {
   "cell_type": "code",
   "execution_count": 1,
   "metadata": {},
   "outputs": [],
   "source": [
    "from osgeo import gdal\n",
    "import wradlib as wrl\n",
    "\n",
    "file_path = \"C:\\\\Users\\\\manan\\\\OneDrive\\\\Desktop\\\\data\\\\BHP190610110229.RAWSU69\"\n",
    "fcontent = wrl.io.read_iris(file_path)\n",
    "fcontent = fcontent['data']"
   ]
  },
  {
   "cell_type": "code",
   "execution_count": 5,
   "metadata": {},
   "outputs": [],
   "source": [
    "import math\n",
    "%matplotlib widget\n",
    "import matplotlib.pyplot as plt\n",
    "\n",
    "def convert_radian(angle):\n",
    "    angle*= math.pi/180\n",
    "    return angle\n",
    "def plot(df):\n",
    "    fig = plt.figure()\n",
    "    ax = plt.axes(projection='3d')\n",
    "    ax.scatter3D(cart['X'], cart['Y'], cart['Z'], marker = 1)\n",
    "    fig.show()\n",
    "    input('hi')"
   ]
  },
  {
   "cell_type": "code",
   "execution_count": 6,
   "metadata": {},
   "outputs": [
    {
     "name": "stdout",
     "output_type": "stream",
     "text": [
      "<class 'collections.OrderedDict'>\n"
     ]
    }
   ],
   "source": [
    "print(type(fcontent))"
   ]
  },
  {
   "cell_type": "code",
   "execution_count": 7,
   "metadata": {},
   "outputs": [
    {
     "name": "stdout",
     "output_type": "stream",
     "text": [
      "               X           Y         Z     V\n",
      "0       0.000000   -0.000000  0.000000 -32.0\n",
      "1       0.000024   -0.499999  0.001150 -32.0\n",
      "2       0.000048   -0.999997  0.002301 -32.0\n",
      "3       0.000072   -1.499996  0.003451 -32.0\n",
      "4       0.000096   -1.999995  0.004602 -32.0\n",
      "...          ...         ...       ...   ...\n",
      "179995 -4.318405  247.461668  0.569490 -32.0\n",
      "179996 -4.327129  247.961590  0.570640 -32.0\n",
      "179997 -4.335853  248.461513  0.571791 -32.0\n",
      "179998 -4.344577  248.961436  0.572941 -32.0\n",
      "179999 -4.353301  249.461358  0.574092 -32.0\n",
      "\n",
      "[180000 rows x 4 columns]\n"
     ]
    },
    {
     "data": {
      "application/vnd.jupyter.widget-view+json": {
       "model_id": "5e5d6ee39e274f51aff3178cd9837564",
       "version_major": 2,
       "version_minor": 0
      },
      "text/plain": [
       "Canvas(toolbar=Toolbar(toolitems=[('Home', 'Reset original view', 'home', 'home'), ('Back', 'Back to previous …"
      ]
     },
     "metadata": {},
     "output_type": "display_data"
    },
    {
     "name": "stdin",
     "output_type": "stream",
     "text": [
      "hi \n"
     ]
    }
   ],
   "source": [
    "import pandas as pd\n",
    "import numpy as np\n",
    "\n",
    "for key1 in fcontent:#10 readings at different elevations\n",
    "    content = fcontent[key1]\n",
    "    for key2 in content:#6 readings -> metadata,values for dbz,vel,width\n",
    "        if key2=='sweep_data':#3 reading taken -> values are stored with key 'sweepdata'\n",
    "            reading = content[key2]\n",
    "            db_dbz = reading['DB_DBZ']#extract only dbz data from reading\n",
    "            #db_dbz['azi_start'][0]-=360\n",
    "            dbz = pd.DataFrame.from_dict({'azi_start':db_dbz['azi_start'],'azi_stop':db_dbz['azi_stop'],'ele_start':db_dbz['ele_start'],'ele_stop':db_dbz['ele_stop']})#convert dbz data to dataframe\n",
    "            dbz['azi_mean'] = dbz[['azi_start','azi_stop']].mean(axis=1)#compute mean of azi\n",
    "            dbz['ele_mean'] = dbz[['ele_start','ele_stop']].mean(axis=1)#compute mean of ele\n",
    "            dbz['azi_mean'] = dbz['azi_mean'].apply(convert_radian)#convert mean from degree to radian\n",
    "            dbz['ele_mean'] = dbz['ele_mean'].apply(convert_radian)#convert mean from degree to radian\n",
    "            data = db_dbz['data']#extract data list (2-d) (360x500)\n",
    "            #print(data)\n",
    "            #print(data.shape)\n",
    "            #print(dbz)\n",
    "            #print(len(data))\n",
    "            x,y,z,v = [],[],[],[]#declare lists for coordinates and values\n",
    "            for j in range(len(data)):\n",
    "                azi = dbz['azi_mean'][j]#read azi for particular ray\n",
    "                ele = dbz['ele_mean'][j]#read ele for particular ray\n",
    "                #print('{}    {}'.format(azi,ele))\n",
    "                dat = data[j]\n",
    "                for k,d in enumerate(dat):#process all (500) reading of particular ray\n",
    "                    i = k*0.5\n",
    "                    Z = i*math.sin(ele)\n",
    "                    Y = i*math.cos(ele)*math.cos(azi)\n",
    "                    X = i*math.cos(ele)*math.sin(azi)\n",
    "                    x.append(X)\n",
    "                    y.append(Y)\n",
    "                    z.append(Z)\n",
    "                    v.append(d)\n",
    "            cart = pd.DataFrame({'X':x,'Y':y,'Z':z,'V':v})\n",
    "            print(cart)\n",
    "            plot(cart)\n",
    "    break"
   ]
  },
  {
   "cell_type": "code",
   "execution_count": null,
   "metadata": {},
   "outputs": [],
   "source": []
  }
 ],
 "metadata": {
  "kernelspec": {
   "display_name": "Python 3",
   "language": "python",
   "name": "python3"
  },
  "language_info": {
   "codemirror_mode": {
    "name": "ipython",
    "version": 3
   },
   "file_extension": ".py",
   "mimetype": "text/x-python",
   "name": "python",
   "nbconvert_exporter": "python",
   "pygments_lexer": "ipython3",
   "version": "3.8.6"
  }
 },
 "nbformat": 4,
 "nbformat_minor": 4
}
